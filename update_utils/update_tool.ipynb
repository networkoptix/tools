{
 "cells": [
  {
   "cell_type": "code",
   "execution_count": 5,
   "metadata": {},
   "outputs": [],
   "source": [
    "from update_maker import *\n",
    "from getpass import getpass"
   ]
  },
  {
   "cell_type": "markdown",
   "metadata": {},
   "source": [
    "# Заполнение локального сервера апдейтов"
   ]
  },
  {
   "cell_type": "code",
   "execution_count": 6,
   "metadata": {
    "scrolled": true
   },
   "outputs": [
    {
     "name": "stdout",
     "output_type": "stream",
     "text": [
      "········\n"
     ]
    }
   ],
   "source": [
    "jenkins_auth = ('dkargin', getpass())"
   ]
  },
  {
   "cell_type": "markdown",
   "metadata": {},
   "source": [
    "Следующей командой скачиваем из женкинса файлы для build=2154. Команда кладёт их в ~/vms_updates/default/2154 сответственно, и генерит update.json на основе полученых файлов.\n",
    "Предполагается, что папка `~/vms_updates/updates` расшарена через apache/nginx"
   ]
  },
  {
   "cell_type": "code",
   "execution_count": 8,
   "metadata": {
    "scrolled": true
   },
   "outputs": [
    {
     "name": "stdout",
     "output_type": "stream",
     "text": [
      "Preparing output dir: ~/vms_updates/updates/default/2154\n",
      "Downloading nxwitness-client_update-4.0.0.2154-linux64-beta-test.zip\n",
      "Finished downloading nxwitness-client_update-4.0.0.2154-linux64-beta-test.zip, 175923573 bytes, md5=460dece436e26d65c3dc2c6f671093e5\n",
      "Downloading nxwitness-client_update-4.0.0.2154-win64-beta-test.zip\n",
      "Finished downloading nxwitness-client_update-4.0.0.2154-win64-beta-test.zip, 186 bytes, md5=a3d7ee70efa8e3dc260ee304541b0de1\n",
      "Downloading nxwitness-server_update-4.0.0.2154-linux64-beta-test.zip\n",
      "Finished downloading nxwitness-server_update-4.0.0.2154-linux64-beta-test.zip, 87567856 bytes, md5=0beea6461be9f89f93a70e64da201389\n",
      "Downloading nxwitness-server_update-4.0.0.2154-bpi-beta-test.zip\n",
      "Finished downloading nxwitness-server_update-4.0.0.2154-bpi-beta-test.zip, 111217650 bytes, md5=6510badc5e5c89e6af2e9d17035a3006\n",
      "Downloading nxwitness-server_update-4.0.0.2154-win64-beta-test.zip\n",
      "Finished downloading nxwitness-server_update-4.0.0.2154-win64-beta-test.zip, 186 bytes, md5=a3d7ee70efa8e3dc260ee304541b0de1\n"
     ]
    }
   ],
   "source": [
    "build = 2154\n",
    "update_root = \"~/vms_updates/updates\"\n",
    "generate_update_folder(update_root, build, jenkins_auth)"
   ]
  },
  {
   "cell_type": "code",
   "execution_count": null,
   "metadata": {},
   "outputs": [],
   "source": []
  },
  {
   "cell_type": "markdown",
   "metadata": {},
   "source": [
    "# Проверка статуса сервера апдейтов"
   ]
  },
  {
   "cell_type": "code",
   "execution_count": null,
   "metadata": {},
   "outputs": [],
   "source": [
    "send_check_update()"
   ]
  },
  {
   "cell_type": "code",
   "execution_count": null,
   "metadata": {},
   "outputs": [],
   "source": [
    "send_stop()"
   ]
  },
  {
   "cell_type": "code",
   "execution_count": null,
   "metadata": {
    "scrolled": true
   },
   "outputs": [],
   "source": [
    "get_update_status()"
   ]
  }
 ],
 "metadata": {
  "kernelspec": {
   "display_name": "Python 3",
   "language": "python",
   "name": "python3"
  },
  "language_info": {
   "codemirror_mode": {
    "name": "ipython",
    "version": 3
   },
   "file_extension": ".py",
   "mimetype": "text/x-python",
   "name": "python",
   "nbconvert_exporter": "python",
   "pygments_lexer": "ipython3",
   "version": "3.6.5"
  }
 },
 "nbformat": 4,
 "nbformat_minor": 2
}
