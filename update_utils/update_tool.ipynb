{
 "cells": [
  {
   "cell_type": "code",
   "execution_count": 5,
   "metadata": {},
   "outputs": [],
   "source": [
    "from update_maker import *\n",
    "from getpass import getpass"
   ]
  },
  {
   "cell_type": "markdown",
   "metadata": {},
   "source": [
    "# Заполнение локального сервера апдейтов"
   ]
  },
  {
   "cell_type": "markdown",
   "metadata": {},
   "source": [
    "Пользователь/пароль для jenkins:"
   ]
  },
  {
   "cell_type": "code",
   "execution_count": 6,
   "metadata": {
    "scrolled": true
   },
   "outputs": [
    {
     "name": "stdout",
     "output_type": "stream",
     "text": [
      "········\n"
     ]
    }
   ],
   "source": [
    "jenkins_auth = ('dkargin', getpass())"
   ]
  },
  {
   "cell_type": "markdown",
   "metadata": {},
   "source": [
    "Следующей командой скачиваем из женкинса файлы для build=2154. Команда кладёт их в .../vms_updates/default/2154 сответственно, и генерит update.json на основе полученых файлов.\n",
    "Предполагается, что папка `/var/www/vms_updates/updates` расшарена через apache/nginx"
   ]
  },
  {
   "cell_type": "code",
   "execution_count": 11,
   "metadata": {
    "scrolled": false
   },
   "outputs": [
    {
     "name": "stdout",
     "output_type": "stream",
     "text": [
      "Preparing output dir: /var/www/vms_updates/updates/default/2154\n",
      "Downloading nxwitness-client_update-4.0.0.2154-linux64-beta-test.zip\n",
      "Finished downloading nxwitness-client_update-4.0.0.2154-linux64-beta-test.zip, 175923573 bytes, md5=460dece436e26d65c3dc2c6f671093e5\n",
      "Downloading nxwitness-client_update-4.0.0.2154-win64-beta-test.zip\n",
      "Finished downloading nxwitness-client_update-4.0.0.2154-win64-beta-test.zip, 108835903 bytes, md5=45e1e38f64c20f84d08ea1447a025457\n",
      "Downloading nxwitness-server_update-4.0.0.2154-linux64-beta-test.zip\n",
      "Finished downloading nxwitness-server_update-4.0.0.2154-linux64-beta-test.zip, 87567856 bytes, md5=0beea6461be9f89f93a70e64da201389\n",
      "Downloading nxwitness-server_update-4.0.0.2154-bpi-beta-test.zip\n",
      "Finished downloading nxwitness-server_update-4.0.0.2154-bpi-beta-test.zip, 111217650 bytes, md5=6510badc5e5c89e6af2e9d17035a3006\n",
      "Downloading nxwitness-server_update-4.0.0.2154-win64-beta-test.zip\n",
      "Finished downloading nxwitness-server_update-4.0.0.2154-win64-beta-test.zip, 95383329 bytes, md5=efa25c02299de3123fab5e75d43632f8\n"
     ]
    }
   ],
   "source": [
    "build = 2154\n",
    "update_root = \"/var/www/vms_updates/updates\"\n",
    "generate_update_folder(update_root, build, jenkins_auth)"
   ]
  },
  {
   "cell_type": "code",
   "execution_count": null,
   "metadata": {},
   "outputs": [],
   "source": []
  },
  {
   "cell_type": "markdown",
   "metadata": {},
   "source": [
    "# Проверка статуса сервера апдейтов"
   ]
  },
  {
   "cell_type": "code",
   "execution_count": null,
   "metadata": {},
   "outputs": [],
   "source": [
    "send_check_update()"
   ]
  },
  {
   "cell_type": "code",
   "execution_count": null,
   "metadata": {},
   "outputs": [],
   "source": [
    "send_stop()"
   ]
  },
  {
   "cell_type": "code",
   "execution_count": null,
   "metadata": {
    "scrolled": true
   },
   "outputs": [],
   "source": [
    "get_update_status()"
   ]
  }
 ],
 "metadata": {
  "kernelspec": {
   "display_name": "Python 3",
   "language": "python",
   "name": "python3"
  },
  "language_info": {
   "codemirror_mode": {
    "name": "ipython",
    "version": 3
   },
   "file_extension": ".py",
   "mimetype": "text/x-python",
   "name": "python",
   "nbconvert_exporter": "python",
   "pygments_lexer": "ipython3",
   "version": "3.6.5"
  }
 },
 "nbformat": 4,
 "nbformat_minor": 2
}
